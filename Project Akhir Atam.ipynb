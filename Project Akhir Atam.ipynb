{
 "cells": [
  {
   "cell_type": "markdown",
   "id": "46683881",
   "metadata": {},
   "source": [
    "# Persiapan Import Data"
   ]
  },
  {
   "cell_type": "markdown",
   "id": "bd96b0ef",
   "metadata": {},
   "source": [
    "## Import Library"
   ]
  },
  {
   "cell_type": "code",
   "execution_count": 1,
   "id": "d3daca55",
   "metadata": {},
   "outputs": [],
   "source": [
    "import os\n",
    "from copy import deepcopy\n",
    "import numpy as np\n",
    "import pandas as pd\n",
    "from matplotlib import pyplot as plt"
   ]
  },
  {
   "cell_type": "markdown",
   "id": "b0033fa1",
   "metadata": {},
   "source": [
    "## Import Data"
   ]
  },
  {
   "cell_type": "code",
   "execution_count": 114,
   "id": "cb28db4c",
   "metadata": {},
   "outputs": [
    {
     "data": {
      "text/html": [
       "<div>\n",
       "<style scoped>\n",
       "    .dataframe tbody tr th:only-of-type {\n",
       "        vertical-align: middle;\n",
       "    }\n",
       "\n",
       "    .dataframe tbody tr th {\n",
       "        vertical-align: top;\n",
       "    }\n",
       "\n",
       "    .dataframe thead th {\n",
       "        text-align: right;\n",
       "    }\n",
       "</style>\n",
       "<table border=\"1\" class=\"dataframe\">\n",
       "  <thead>\n",
       "    <tr style=\"text-align: right;\">\n",
       "      <th></th>\n",
       "      <th>Jenis Ikan</th>\n",
       "      <th>TON</th>\n",
       "      <th>RP (000)</th>\n",
       "    </tr>\n",
       "  </thead>\n",
       "  <tbody>\n",
       "    <tr>\n",
       "      <th>0</th>\n",
       "      <td>Layang</td>\n",
       "      <td>1936.11</td>\n",
       "      <td>24434115</td>\n",
       "    </tr>\n",
       "    <tr>\n",
       "      <th>1</th>\n",
       "      <td>Kembung</td>\n",
       "      <td>569.30</td>\n",
       "      <td>5567780</td>\n",
       "    </tr>\n",
       "    <tr>\n",
       "      <th>2</th>\n",
       "      <td>Kerapu</td>\n",
       "      <td>634.43</td>\n",
       "      <td>21996270</td>\n",
       "    </tr>\n",
       "    <tr>\n",
       "      <th>3</th>\n",
       "      <td>Tongkol</td>\n",
       "      <td>2093.76</td>\n",
       "      <td>25009640</td>\n",
       "    </tr>\n",
       "    <tr>\n",
       "      <th>4</th>\n",
       "      <td>Tengiri</td>\n",
       "      <td>0.00</td>\n",
       "      <td>0</td>\n",
       "    </tr>\n",
       "    <tr>\n",
       "      <th>5</th>\n",
       "      <td>Bambangan</td>\n",
       "      <td>686.00</td>\n",
       "      <td>20694850</td>\n",
       "    </tr>\n",
       "    <tr>\n",
       "      <th>6</th>\n",
       "      <td>Selar</td>\n",
       "      <td>601.25</td>\n",
       "      <td>4597448</td>\n",
       "    </tr>\n",
       "    <tr>\n",
       "      <th>7</th>\n",
       "      <td>Teri</td>\n",
       "      <td>616.27</td>\n",
       "      <td>8436795</td>\n",
       "    </tr>\n",
       "    <tr>\n",
       "      <th>8</th>\n",
       "      <td>Lemuru</td>\n",
       "      <td>136.83</td>\n",
       "      <td>704350</td>\n",
       "    </tr>\n",
       "    <tr>\n",
       "      <th>9</th>\n",
       "      <td>Layur</td>\n",
       "      <td>330.32</td>\n",
       "      <td>5512290</td>\n",
       "    </tr>\n",
       "    <tr>\n",
       "      <th>10</th>\n",
       "      <td>Petek</td>\n",
       "      <td>490.10</td>\n",
       "      <td>1912750</td>\n",
       "    </tr>\n",
       "    <tr>\n",
       "      <th>11</th>\n",
       "      <td>Cucut</td>\n",
       "      <td>66.60</td>\n",
       "      <td>227700</td>\n",
       "    </tr>\n",
       "    <tr>\n",
       "      <th>12</th>\n",
       "      <td>Manyung</td>\n",
       "      <td>29.30</td>\n",
       "      <td>273650</td>\n",
       "    </tr>\n",
       "    <tr>\n",
       "      <th>13</th>\n",
       "      <td>P a r i</td>\n",
       "      <td>286.10</td>\n",
       "      <td>1973600</td>\n",
       "    </tr>\n",
       "    <tr>\n",
       "      <th>14</th>\n",
       "      <td>Beloso</td>\n",
       "      <td>448.96</td>\n",
       "      <td>2681395</td>\n",
       "    </tr>\n",
       "    <tr>\n",
       "      <th>15</th>\n",
       "      <td>Udang Lainnya</td>\n",
       "      <td>437.16</td>\n",
       "      <td>16521050</td>\n",
       "    </tr>\n",
       "    <tr>\n",
       "      <th>16</th>\n",
       "      <td>Kakap</td>\n",
       "      <td>604.70</td>\n",
       "      <td>21235825</td>\n",
       "    </tr>\n",
       "    <tr>\n",
       "      <th>17</th>\n",
       "      <td>Kurisi</td>\n",
       "      <td>884.62</td>\n",
       "      <td>9306820</td>\n",
       "    </tr>\n",
       "    <tr>\n",
       "      <th>18</th>\n",
       "      <td>Lainnya</td>\n",
       "      <td>1009.76</td>\n",
       "      <td>6179170</td>\n",
       "    </tr>\n",
       "    <tr>\n",
       "      <th>19</th>\n",
       "      <td>Cumi-Cumi</td>\n",
       "      <td>534.42</td>\n",
       "      <td>10135220</td>\n",
       "    </tr>\n",
       "    <tr>\n",
       "      <th>20</th>\n",
       "      <td>Bawal putih</td>\n",
       "      <td>366.97</td>\n",
       "      <td>2384980</td>\n",
       "    </tr>\n",
       "    <tr>\n",
       "      <th>21</th>\n",
       "      <td>Belanak</td>\n",
       "      <td>443.89</td>\n",
       "      <td>2864355</td>\n",
       "    </tr>\n",
       "    <tr>\n",
       "      <th>22</th>\n",
       "      <td>Rajungan</td>\n",
       "      <td>419.62</td>\n",
       "      <td>10473935</td>\n",
       "    </tr>\n",
       "    <tr>\n",
       "      <th>23</th>\n",
       "      <td>Beronang</td>\n",
       "      <td>0.00</td>\n",
       "      <td>0</td>\n",
       "    </tr>\n",
       "    <tr>\n",
       "      <th>24</th>\n",
       "      <td>Kepiting</td>\n",
       "      <td>205.19</td>\n",
       "      <td>6898820</td>\n",
       "    </tr>\n",
       "  </tbody>\n",
       "</table>\n",
       "</div>"
      ],
      "text/plain": [
       "       Jenis Ikan      TON  RP (000)\n",
       "0          Layang  1936.11  24434115\n",
       "1         Kembung   569.30   5567780\n",
       "2          Kerapu   634.43  21996270\n",
       "3         Tongkol  2093.76  25009640\n",
       "4         Tengiri     0.00         0\n",
       "5       Bambangan   686.00  20694850\n",
       "6           Selar   601.25   4597448\n",
       "7            Teri   616.27   8436795\n",
       "8          Lemuru   136.83    704350\n",
       "9           Layur   330.32   5512290\n",
       "10          Petek   490.10   1912750\n",
       "11          Cucut    66.60    227700\n",
       "12        Manyung    29.30    273650\n",
       "13        P a r i   286.10   1973600\n",
       "14         Beloso   448.96   2681395\n",
       "15  Udang Lainnya   437.16  16521050\n",
       "16          Kakap   604.70  21235825\n",
       "17         Kurisi   884.62   9306820\n",
       "18        Lainnya  1009.76   6179170\n",
       "19      Cumi-Cumi   534.42  10135220\n",
       "20    Bawal putih   366.97   2384980\n",
       "21        Belanak   443.89   2864355\n",
       "22       Rajungan   419.62  10473935\n",
       "23       Beronang     0.00         0\n",
       "24       Kepiting   205.19   6898820"
      ]
     },
     "execution_count": 114,
     "metadata": {},
     "output_type": "execute_result"
    }
   ],
   "source": [
    "df = pd.read_excel (r'C:\\Users\\Atam Rifai S\\OneDrive - ITPLN\\OneDrive - Komputer\\Script\\Machine Learning\\Dicoding\\Dicoding Submission\\Ekspor Ikan Kabupaten Situbondo 2016-2017.xls')\n",
    "df"
   ]
  },
  {
   "cell_type": "markdown",
   "id": "4c2ab794",
   "metadata": {},
   "source": [
    "## Melihat informasi Data"
   ]
  },
  {
   "cell_type": "code",
   "execution_count": 24,
   "id": "1c7cccea",
   "metadata": {},
   "outputs": [
    {
     "name": "stdout",
     "output_type": "stream",
     "text": [
      "<class 'pandas.core.frame.DataFrame'>\n",
      "RangeIndex: 25 entries, 0 to 24\n",
      "Data columns (total 3 columns):\n",
      " #   Column      Non-Null Count  Dtype  \n",
      "---  ------      --------------  -----  \n",
      " 0   Jenis Ikan  25 non-null     object \n",
      " 1   TON         25 non-null     float64\n",
      " 2   RP (000)    25 non-null     int64  \n",
      "dtypes: float64(1), int64(1), object(1)\n",
      "memory usage: 728.0+ bytes\n"
     ]
    }
   ],
   "source": [
    "df.info()"
   ]
  },
  {
   "cell_type": "code",
   "execution_count": 28,
   "id": "30f664b6",
   "metadata": {},
   "outputs": [
    {
     "data": {
      "text/html": [
       "<div>\n",
       "<style scoped>\n",
       "    .dataframe tbody tr th:only-of-type {\n",
       "        vertical-align: middle;\n",
       "    }\n",
       "\n",
       "    .dataframe tbody tr th {\n",
       "        vertical-align: top;\n",
       "    }\n",
       "\n",
       "    .dataframe thead th {\n",
       "        text-align: right;\n",
       "    }\n",
       "</style>\n",
       "<table border=\"1\" class=\"dataframe\">\n",
       "  <thead>\n",
       "    <tr style=\"text-align: right;\">\n",
       "      <th></th>\n",
       "      <th>TON</th>\n",
       "      <th>RP (000)</th>\n",
       "    </tr>\n",
       "  </thead>\n",
       "  <tbody>\n",
       "    <tr>\n",
       "      <th>count</th>\n",
       "      <td>25.000000</td>\n",
       "      <td>2.500000e+01</td>\n",
       "    </tr>\n",
       "    <tr>\n",
       "      <th>mean</th>\n",
       "      <td>553.266400</td>\n",
       "      <td>8.400912e+06</td>\n",
       "    </tr>\n",
       "    <tr>\n",
       "      <th>std</th>\n",
       "      <td>511.102856</td>\n",
       "      <td>8.321464e+06</td>\n",
       "    </tr>\n",
       "    <tr>\n",
       "      <th>min</th>\n",
       "      <td>0.000000</td>\n",
       "      <td>0.000000e+00</td>\n",
       "    </tr>\n",
       "    <tr>\n",
       "      <th>25%</th>\n",
       "      <td>286.100000</td>\n",
       "      <td>1.973600e+06</td>\n",
       "    </tr>\n",
       "    <tr>\n",
       "      <th>50%</th>\n",
       "      <td>448.960000</td>\n",
       "      <td>5.567780e+06</td>\n",
       "    </tr>\n",
       "    <tr>\n",
       "      <th>75%</th>\n",
       "      <td>616.270000</td>\n",
       "      <td>1.047394e+07</td>\n",
       "    </tr>\n",
       "    <tr>\n",
       "      <th>max</th>\n",
       "      <td>2093.760000</td>\n",
       "      <td>2.500964e+07</td>\n",
       "    </tr>\n",
       "  </tbody>\n",
       "</table>\n",
       "</div>"
      ],
      "text/plain": [
       "               TON      RP (000)\n",
       "count    25.000000  2.500000e+01\n",
       "mean    553.266400  8.400912e+06\n",
       "std     511.102856  8.321464e+06\n",
       "min       0.000000  0.000000e+00\n",
       "25%     286.100000  1.973600e+06\n",
       "50%     448.960000  5.567780e+06\n",
       "75%     616.270000  1.047394e+07\n",
       "max    2093.760000  2.500964e+07"
      ]
     },
     "execution_count": 28,
     "metadata": {},
     "output_type": "execute_result"
    }
   ],
   "source": [
    " Plottidf.describe()"
   ]
  },
  {
   "cell_type": "markdown",
   "id": "92978173",
   "metadata": {},
   "source": [
    "## Plotting Data Hasil Import"
   ]
  },
  {
   "cell_type": "code",
   "execution_count": 26,
   "id": "49a29d5c",
   "metadata": {},
   "outputs": [
    {
     "data": {
      "text/plain": [
       "<matplotlib.collections.PathCollection at 0x18091362970>"
      ]
     },
     "execution_count": 26,
     "metadata": {},
     "output_type": "execute_result"
    },
    {
     "data": {
      "image/png": "[encoded data removed]",
      "text/plain": [
       "<Figure size 1152x648 with 1 Axes>"
      ]
     },
     "metadata": {},
     "output_type": "display_data"
    }
   ],
   "source": [
    "f1 = df[\"TON\"].values\n",
    "f2 = df[\"RP (000)\"].values\n",
    "X = np.array(list(zip(f1, f2)))\n",
    "plt.scatter(f1, f2, c='Blue')"
   ]
  },
  {
   "cell_type": "markdown",
   "id": "a87fc8b5",
   "metadata": {},
   "source": [
    "# Algoritma Clustering dengan Algoritma Euclidean Distance"
   ]
  },
  {
   "cell_type": "markdown",
   "id": "3ed7d561",
   "metadata": {},
   "source": [
    "### Membuat rumus Algoritma Euclidean Distance"
   ]
  },
  {
   "cell_type": "code",
   "execution_count": 30,
   "id": "3e8c38b1",
   "metadata": {},
   "outputs": [],
   "source": [
    "def dist(a, b, ax=1):\n",
    "    return np.linalg.norm(a - b, axis=ax)"
   ]
  },
  {
   "cell_type": "code",
   "execution_count": 38,
   "id": "312099b9",
   "metadata": {},
   "outputs": [
    {
     "data": {
      "text/plain": [
       "<matplotlib.collections.PathCollection at 0x180926f21f0>"
      ]
     },
     "execution_count": 38,
     "metadata": {},
     "output_type": "execute_result"
    },
    {
     "data": {
      "image/png": "[encoded data removed]",
      "text/plain": [
       "<Figure size 1152x648 with 1 Axes>"
      ]
     },
     "metadata": {},
     "output_type": "display_data"
    }
   ],
   "source": [
    "k = 3\n",
    "C = X[0:3]\n",
    "plt.scatter(f1, f2, c=\"#5ab0c7\")\n",
    "plt.scatter(C[:,0], C[:,1], marker=\"*\", s=100, c='g')"
   ]
  },
  {
   "cell_type": "markdown",
   "id": "ac8ae3b9",
   "metadata": {},
   "source": [
    "### Membuat Area Clustering"
   ]
  },
  {
   "cell_type": "code",
   "execution_count": 39,
   "id": "316cb3e6",
   "metadata": {},
   "outputs": [],
   "source": [
    "C_old = np.zeros(C.shape)\n",
    "\n",
    "clusters = np.zeros(len(X))\n",
    "\n",
    "error = dist(C, C_old, None)\n",
    "\n",
    "count = 1\n",
    "while (error !=0):\n",
    "    for i in range(len(X)):\n",
    "        distances = dist(X[i],C)\n",
    "        cluster = np.argmin(distances)\n",
    "        clusters[i] = cluster\n",
    "    \n",
    "    C_old = deepcopy(C)\n",
    "    \n",
    "    for i in range(k):\n",
    "        points = [X[j] for j in range(len(X)) if clusters[j]==i]\n",
    "        C[i] = np.mean(points, axis=0)\n",
    "    error = dist(C, C_old, None)"
   ]
  },
  {
   "cell_type": "code",
   "execution_count": 104,
   "id": "6c491482",
   "metadata": {},
   "outputs": [
    {
     "name": "stderr",
     "output_type": "stream",
     "text": [
      "C:\\Users\\Atam Rifai S\\AppData\\Local\\Temp\\ipykernel_21436\\2131041208.py:8: VisibleDeprecationWarning: Creating an ndarray from ragged nested sequences (which is a list-or-tuple of lists-or-tuples-or ndarrays with different lengths or shapes) is deprecated. If you meant to do this, you must specify 'dtype=object' when creating the ndarray.\n",
      "  hasil = np.array(list(zip(df[\"Jenis Ikan\"], clusters)))\n"
     ]
    },
    {
     "data": {
      "image/png": "[encoded data removed]",
      "text/plain": [
       "<Figure size 1152x648 with 1 Axes>"
      ]
     },
     "metadata": {},
     "output_type": "display_data"
    }
   ],
   "source": [
    "colors = ['r', 'y', 'g']\n",
    "fig, ax = plt.subplots()\n",
    "for i in range(k):\n",
    "        points = np.array([X[j] for j in range(len(X)) if clusters[j] == i])\n",
    "        ax.scatter(points[:, 0], points[:, 1], s=300, c=colors[i])\n",
    "ax.scatter(C[:, 0], C[:, 1], marker='*', s=300, c='#050505')\n",
    "\n",
    "hasil = np.array(list(zip(df[\"Jenis Ikan\"], clusters)))"
   ]
  },
  {
   "cell_type": "markdown",
   "id": "e9cb8c4e",
   "metadata": {},
   "source": [
    "## Output Clustering dengan Euclidean"
   ]
  },
  {
   "cell_type": "markdown",
   "id": "d550c985",
   "metadata": {},
   "source": [
    "### Mengelempokkan hasil clustering berdasarkan jenis ikan\n"
   ]
  },
  {
   "cell_type": "code",
   "execution_count": 103,
   "id": "050baa8b",
   "metadata": {},
   "outputs": [
    {
     "data": {
      "text/plain": [
       "(('Jenis Ikan',\n",
       "  array(['Jenis Ikan',\n",
       "         array(['Layang', 'Kembung', 'Kerapu', 'Tongkol', 'Tengiri', 'Bambangan',\n",
       "                'Selar', 'Teri', 'Lemuru', 'Layur', 'Petek', 'Cucut', 'Manyung',\n",
       "                'P a r i', 'Beloso', 'Udang Lainnya', 'Kakap', 'Kurisi', 'Lainnya',\n",
       "                'Cumi-Cumi', 'Bawal putih', 'Belanak', 'Rajungan', 'Beronang',\n",
       "                'Kepiting'], dtype=object)                                         ],\n",
       "        dtype=object)),\n",
       " ('Cluster',\n",
       "  array([0., 1., 2., 0., 1., 2., 1., 1., 1., 1., 1., 1., 1., 1., 1., 2., 2.,\n",
       "         1., 1., 1., 1., 1., 1., 1., 1.])))"
      ]
     },
     "execution_count": 103,
     "metadata": {},
     "output_type": "execute_result"
    }
   ],
   "source": [
    "hasil = ('Jenis Ikan', df[\"Jenis Ikan\"].values), ('Cluster', clusters)\n",
    "hasil"
   ]
  },
  {
   "cell_type": "code",
   "execution_count": 106,
   "id": "5fc1fc5f",
   "metadata": {},
   "outputs": [],
   "source": [
    "output = ['Layang', 'Kembung', 'Kerapu', 'Tongkol', 'Tengiri', 'Bambangan',\n",
    "                'Selar', 'Teri', 'Lemuru', 'Layur', 'Petek', 'Cucut', 'Manyung',\n",
    "                'P a r i', 'Beloso', 'Udang Lainnya', 'Kakap', 'Kurisi', 'Lainnya',\n",
    "                'Cumi-Cumi', 'Bawal putih', 'Belanak', 'Rajungan', 'Beronang',\n",
    "                'Kepiting'],[0., 1., 2., 0., 1., 2., 1., 1., 1., 1., 1., 1., 1., 1., 1., 2., 2.,\n",
    "         1., 1., 1., 1., 1., 1., 1., 1.]"
   ]
  },
  {
   "cell_type": "markdown",
   "id": "5b1ca321",
   "metadata": {},
   "source": [
    "### Menampilkan Output Hasil Clustering"
   ]
  },
  {
   "cell_type": "code",
   "execution_count": 108,
   "id": "a95133b0",
   "metadata": {},
   "outputs": [
    {
     "name": "stdout",
     "output_type": "stream",
     "text": [
      "       Jenis Ikan Cluster\n",
      "0          Layang     0.0\n",
      "1         Kembung     1.0\n",
      "2          Kerapu     2.0\n",
      "3         Tongkol     0.0\n",
      "4         Tengiri     1.0\n",
      "5       Bambangan     2.0\n",
      "6           Selar     1.0\n",
      "7            Teri     1.0\n",
      "8          Lemuru     1.0\n",
      "9           Layur     1.0\n",
      "10          Petek     1.0\n",
      "11          Cucut     1.0\n",
      "12        Manyung     1.0\n",
      "13        P a r i     1.0\n",
      "14         Beloso     1.0\n",
      "15  Udang Lainnya     2.0\n",
      "16          Kakap     2.0\n",
      "17         Kurisi     1.0\n",
      "18        Lainnya     1.0\n",
      "19      Cumi-Cumi     1.0\n",
      "20    Bawal putih     1.0\n",
      "21        Belanak     1.0\n",
      "22       Rajungan     1.0\n",
      "23       Beronang     1.0\n",
      "24       Kepiting     1.0\n"
     ]
    }
   ],
   "source": [
    "df1 = pd.DataFrame (output).transpose()\n",
    "df1.columns = ['Jenis Ikan', 'Cluster']\n",
    "print(df1)\n"
   ]
  },
  {
   "cell_type": "markdown",
   "id": "75ae3dd5",
   "metadata": {},
   "source": [
    "# Klustering K-Means Scikir Learn"
   ]
  },
  {
   "cell_type": "code",
   "execution_count": 115,
   "id": "a1cccd80",
   "metadata": {},
   "outputs": [
    {
     "data": {
      "text/html": [
       "<div>\n",
       "<style scoped>\n",
       "    .dataframe tbody tr th:only-of-type {\n",
       "        vertical-align: middle;\n",
       "    }\n",
       "\n",
       "    .dataframe tbody tr th {\n",
       "        vertical-align: top;\n",
       "    }\n",
       "\n",
       "    .dataframe thead th {\n",
       "        text-align: right;\n",
       "    }\n",
       "</style>\n",
       "<table border=\"1\" class=\"dataframe\">\n",
       "  <thead>\n",
       "    <tr style=\"text-align: right;\">\n",
       "      <th></th>\n",
       "      <th>Jenis Ikan</th>\n",
       "      <th>TON</th>\n",
       "      <th>RP (000)</th>\n",
       "    </tr>\n",
       "  </thead>\n",
       "  <tbody>\n",
       "    <tr>\n",
       "      <th>0</th>\n",
       "      <td>Layang</td>\n",
       "      <td>1936.11</td>\n",
       "      <td>24434115</td>\n",
       "    </tr>\n",
       "    <tr>\n",
       "      <th>1</th>\n",
       "      <td>Kembung</td>\n",
       "      <td>569.30</td>\n",
       "      <td>5567780</td>\n",
       "    </tr>\n",
       "    <tr>\n",
       "      <th>2</th>\n",
       "      <td>Kerapu</td>\n",
       "      <td>634.43</td>\n",
       "      <td>21996270</td>\n",
       "    </tr>\n",
       "    <tr>\n",
       "      <th>3</th>\n",
       "      <td>Tongkol</td>\n",
       "      <td>2093.76</td>\n",
       "      <td>25009640</td>\n",
       "    </tr>\n",
       "    <tr>\n",
       "      <th>4</th>\n",
       "      <td>Tengiri</td>\n",
       "      <td>0.00</td>\n",
       "      <td>0</td>\n",
       "    </tr>\n",
       "    <tr>\n",
       "      <th>5</th>\n",
       "      <td>Bambangan</td>\n",
       "      <td>686.00</td>\n",
       "      <td>20694850</td>\n",
       "    </tr>\n",
       "    <tr>\n",
       "      <th>6</th>\n",
       "      <td>Selar</td>\n",
       "      <td>601.25</td>\n",
       "      <td>4597448</td>\n",
       "    </tr>\n",
       "    <tr>\n",
       "      <th>7</th>\n",
       "      <td>Teri</td>\n",
       "      <td>616.27</td>\n",
       "      <td>8436795</td>\n",
       "    </tr>\n",
       "    <tr>\n",
       "      <th>8</th>\n",
       "      <td>Lemuru</td>\n",
       "      <td>136.83</td>\n",
       "      <td>704350</td>\n",
       "    </tr>\n",
       "    <tr>\n",
       "      <th>9</th>\n",
       "      <td>Layur</td>\n",
       "      <td>330.32</td>\n",
       "      <td>5512290</td>\n",
       "    </tr>\n",
       "    <tr>\n",
       "      <th>10</th>\n",
       "      <td>Petek</td>\n",
       "      <td>490.10</td>\n",
       "      <td>1912750</td>\n",
       "    </tr>\n",
       "    <tr>\n",
       "      <th>11</th>\n",
       "      <td>Cucut</td>\n",
       "      <td>66.60</td>\n",
       "      <td>227700</td>\n",
       "    </tr>\n",
       "    <tr>\n",
       "      <th>12</th>\n",
       "      <td>Manyung</td>\n",
       "      <td>29.30</td>\n",
       "      <td>273650</td>\n",
       "    </tr>\n",
       "    <tr>\n",
       "      <th>13</th>\n",
       "      <td>P a r i</td>\n",
       "      <td>286.10</td>\n",
       "      <td>1973600</td>\n",
       "    </tr>\n",
       "    <tr>\n",
       "      <th>14</th>\n",
       "      <td>Beloso</td>\n",
       "      <td>448.96</td>\n",
       "      <td>2681395</td>\n",
       "    </tr>\n",
       "    <tr>\n",
       "      <th>15</th>\n",
       "      <td>Udang Lainnya</td>\n",
       "      <td>437.16</td>\n",
       "      <td>16521050</td>\n",
       "    </tr>\n",
       "    <tr>\n",
       "      <th>16</th>\n",
       "      <td>Kakap</td>\n",
       "      <td>604.70</td>\n",
       "      <td>21235825</td>\n",
       "    </tr>\n",
       "    <tr>\n",
       "      <th>17</th>\n",
       "      <td>Kurisi</td>\n",
       "      <td>884.62</td>\n",
       "      <td>9306820</td>\n",
       "    </tr>\n",
       "    <tr>\n",
       "      <th>18</th>\n",
       "      <td>Lainnya</td>\n",
       "      <td>1009.76</td>\n",
       "      <td>6179170</td>\n",
       "    </tr>\n",
       "    <tr>\n",
       "      <th>19</th>\n",
       "      <td>Cumi-Cumi</td>\n",
       "      <td>534.42</td>\n",
       "      <td>10135220</td>\n",
       "    </tr>\n",
       "    <tr>\n",
       "      <th>20</th>\n",
       "      <td>Bawal putih</td>\n",
       "      <td>366.97</td>\n",
       "      <td>2384980</td>\n",
       "    </tr>\n",
       "    <tr>\n",
       "      <th>21</th>\n",
       "      <td>Belanak</td>\n",
       "      <td>443.89</td>\n",
       "      <td>2864355</td>\n",
       "    </tr>\n",
       "    <tr>\n",
       "      <th>22</th>\n",
       "      <td>Rajungan</td>\n",
       "      <td>419.62</td>\n",
       "      <td>10473935</td>\n",
       "    </tr>\n",
       "    <tr>\n",
       "      <th>23</th>\n",
       "      <td>Beronang</td>\n",
       "      <td>0.00</td>\n",
       "      <td>0</td>\n",
       "    </tr>\n",
       "    <tr>\n",
       "      <th>24</th>\n",
       "      <td>Kepiting</td>\n",
       "      <td>205.19</td>\n",
       "      <td>6898820</td>\n",
       "    </tr>\n",
       "  </tbody>\n",
       "</table>\n",
       "</div>"
      ],
      "text/plain": [
       "       Jenis Ikan      TON  RP (000)\n",
       "0          Layang  1936.11  24434115\n",
       "1         Kembung   569.30   5567780\n",
       "2          Kerapu   634.43  21996270\n",
       "3         Tongkol  2093.76  25009640\n",
       "4         Tengiri     0.00         0\n",
       "5       Bambangan   686.00  20694850\n",
       "6           Selar   601.25   4597448\n",
       "7            Teri   616.27   8436795\n",
       "8          Lemuru   136.83    704350\n",
       "9           Layur   330.32   5512290\n",
       "10          Petek   490.10   1912750\n",
       "11          Cucut    66.60    227700\n",
       "12        Manyung    29.30    273650\n",
       "13        P a r i   286.10   1973600\n",
       "14         Beloso   448.96   2681395\n",
       "15  Udang Lainnya   437.16  16521050\n",
       "16          Kakap   604.70  21235825\n",
       "17         Kurisi   884.62   9306820\n",
       "18        Lainnya  1009.76   6179170\n",
       "19      Cumi-Cumi   534.42  10135220\n",
       "20    Bawal putih   366.97   2384980\n",
       "21        Belanak   443.89   2864355\n",
       "22       Rajungan   419.62  10473935\n",
       "23       Beronang     0.00         0\n",
       "24       Kepiting   205.19   6898820"
      ]
     },
     "execution_count": 115,
     "metadata": {},
     "output_type": "execute_result"
    }
   ],
   "source": [
    "df"
   ]
  },
  {
   "cell_type": "code",
   "execution_count": 119,
   "id": "b32c4be5",
   "metadata": {},
   "outputs": [
    {
     "data": {
      "text/html": [
       "<div>\n",
       "<style scoped>\n",
       "    .dataframe tbody tr th:only-of-type {\n",
       "        vertical-align: middle;\n",
       "    }\n",
       "\n",
       "    .dataframe tbody tr th {\n",
       "        vertical-align: top;\n",
       "    }\n",
       "\n",
       "    .dataframe thead th {\n",
       "        text-align: right;\n",
       "    }\n",
       "</style>\n",
       "<table border=\"1\" class=\"dataframe\">\n",
       "  <thead>\n",
       "    <tr style=\"text-align: right;\">\n",
       "      <th></th>\n",
       "      <th>TON</th>\n",
       "      <th>RP (000)</th>\n",
       "    </tr>\n",
       "  </thead>\n",
       "  <tbody>\n",
       "    <tr>\n",
       "      <th>0</th>\n",
       "      <td>1936.11</td>\n",
       "      <td>24434115</td>\n",
       "    </tr>\n",
       "    <tr>\n",
       "      <th>1</th>\n",
       "      <td>569.30</td>\n",
       "      <td>5567780</td>\n",
       "    </tr>\n",
       "    <tr>\n",
       "      <th>2</th>\n",
       "      <td>634.43</td>\n",
       "      <td>21996270</td>\n",
       "    </tr>\n",
       "    <tr>\n",
       "      <th>3</th>\n",
       "      <td>2093.76</td>\n",
       "      <td>25009640</td>\n",
       "    </tr>\n",
       "    <tr>\n",
       "      <th>4</th>\n",
       "      <td>0.00</td>\n",
       "      <td>0</td>\n",
       "    </tr>\n",
       "  </tbody>\n",
       "</table>\n",
       "</div>"
      ],
      "text/plain": [
       "       TON  RP (000)\n",
       "0  1936.11  24434115\n",
       "1   569.30   5567780\n",
       "2   634.43  21996270\n",
       "3  2093.76  25009640\n",
       "4     0.00         0"
      ]
     },
     "execution_count": 119,
     "metadata": {},
     "output_type": "execute_result"
    }
   ],
   "source": [
    "ikan_x = df.iloc[:, 1:3]\n",
    "ikan_x.head()"
   ]
  },
  {
   "cell_type": "code",
   "execution_count": 120,
   "id": "e5d58615",
   "metadata": {},
   "outputs": [
    {
     "name": "stdout",
     "output_type": "stream",
     "text": [
      "[[1.9361100e+03 2.4434115e+07]\n",
      " [5.6930000e+02 5.5677800e+06]\n",
      " [6.3443000e+02 2.1996270e+07]\n",
      " [2.0937600e+03 2.5009640e+07]\n",
      " [0.0000000e+00 0.0000000e+00]\n",
      " [6.8600000e+02 2.0694850e+07]\n",
      " [6.0125000e+02 4.5974480e+06]\n",
      " [6.1627000e+02 8.4367950e+06]\n",
      " [1.3683000e+02 7.0435000e+05]\n",
      " [3.3032000e+02 5.5122900e+06]\n",
      " [4.9010000e+02 1.9127500e+06]\n",
      " [6.6600000e+01 2.2770000e+05]\n",
      " [2.9300000e+01 2.7365000e+05]\n",
      " [2.8610000e+02 1.9736000e+06]\n",
      " [4.4896000e+02 2.6813950e+06]\n",
      " [4.3716000e+02 1.6521050e+07]\n",
      " [6.0470000e+02 2.1235825e+07]\n",
      " [8.8462000e+02 9.3068200e+06]\n",
      " [1.0097600e+03 6.1791700e+06]\n",
      " [5.3442000e+02 1.0135220e+07]\n",
      " [3.6697000e+02 2.3849800e+06]\n",
      " [4.4389000e+02 2.8643550e+06]\n",
      " [4.1962000e+02 1.0473935e+07]\n",
      " [0.0000000e+00 0.0000000e+00]\n",
      " [2.0519000e+02 6.8988200e+06]]\n"
     ]
    }
   ],
   "source": [
    "x_array = np.array(ikan_x)\n",
    "print(x_array)"
   ]
  },
  {
   "cell_type": "code",
   "execution_count": 122,
   "id": "227d9d50",
   "metadata": {},
   "outputs": [
    {
     "data": {
      "text/plain": [
       "array([[0.92470484, 0.97698787],\n",
       "       [0.27190318, 0.22262536],\n",
       "       [0.3030099 , 0.87951166],\n",
       "       [1.        , 1.        ],\n",
       "       [0.        , 0.        ],\n",
       "       [0.32764023, 0.82747493],\n",
       "       [0.28716281, 0.18382704],\n",
       "       [0.2943365 , 0.33734172],\n",
       "       [0.06535133, 0.02816314],\n",
       "       [0.15776402, 0.22040661],\n",
       "       [0.23407649, 0.07648051],\n",
       "       [0.0318088 , 0.00910449],\n",
       "       [0.01399396, 0.01094178],\n",
       "       [0.13664412, 0.07891357],\n",
       "       [0.21442763, 0.10721446],\n",
       "       [0.20879184, 0.66058728],\n",
       "       [0.28881056, 0.84910558],\n",
       "       [0.42250306, 0.37212931],\n",
       "       [0.48227113, 0.24707153],\n",
       "       [0.25524415, 0.40525253],\n",
       "       [0.17526842, 0.09536243],\n",
       "       [0.21200615, 0.11453004],\n",
       "       [0.20041457, 0.41879591],\n",
       "       [0.        , 0.        ],\n",
       "       [0.09800073, 0.27584643]])"
      ]
     },
     "execution_count": 122,
     "metadata": {},
     "output_type": "execute_result"
    }
   ],
   "source": [
    "from sklearn.preprocessing import MinMaxScaler\n",
    "scaler = MinMaxScaler()\n",
    "x_scaled = scaler.fit_transform(x_array)\n",
    "x_scaled"
   ]
  },
  {
   "cell_type": "code",
   "execution_count": 124,
   "id": "ec0758d9",
   "metadata": {},
   "outputs": [],
   "source": [
    "from sklearn.cluster import KMeans\n",
    "kmeans = KMeans(n_clusters = 3, random_state=123)"
   ]
  },
  {
   "cell_type": "code",
   "execution_count": 125,
   "id": "1499efcc",
   "metadata": {},
   "outputs": [
    {
     "data": {
      "text/plain": [
       "KMeans(n_clusters=3, random_state=123)"
      ]
     },
     "execution_count": 125,
     "metadata": {},
     "output_type": "execute_result"
    }
   ],
   "source": [
    "kmeans.fit(x_scaled)"
   ]
  },
  {
   "cell_type": "code",
   "execution_count": 126,
   "id": "432bcfb3",
   "metadata": {},
   "outputs": [
    {
     "name": "stdout",
     "output_type": "stream",
     "text": [
      "[[0.18700932 0.16863194]\n",
      " [0.28206313 0.80416986]\n",
      " [0.96235242 0.98849394]]\n"
     ]
    }
   ],
   "source": [
    "print(kmeans.cluster_centers_)"
   ]
  },
  {
   "cell_type": "code",
   "execution_count": 128,
   "id": "f85f6fd3",
   "metadata": {},
   "outputs": [],
   "source": [
    "df[\"kluster\"] = kmeans.labels_"
   ]
  },
  {
   "cell_type": "code",
   "execution_count": 129,
   "id": "6eb084e3",
   "metadata": {
    "scrolled": true
   },
   "outputs": [
    {
     "name": "stderr",
     "output_type": "stream",
     "text": [
      "C:\\Users\\Atam Rifai S\\AppData\\Local\\Temp\\ipykernel_21436\\397191477.py:5: MatplotlibDeprecationWarning: Auto-removal of grids by pcolor() and pcolormesh() is deprecated since 3.5 and will be removed two minor releases later; please call grid(False) first.\n",
      "  plt.colorbar(output)\n"
     ]
    },
    {
     "data": {
      "image/png": "[encoded data removed]",
      "text/plain": [
       "<Figure size 1152x648 with 2 Axes>"
      ]
     },
     "metadata": {},
     "output_type": "display_data"
    }
   ],
   "source": [
    "output = plt.scatter(x_scaled[:,0], x_scaled[:,1], s = 100, c = df.kluster, marker = \"o\", alpha = 1, )\n",
    "centers = kmeans.cluster_centers_\n",
    "plt.scatter(centers[:,0], centers[:,1], c='red', s=200, alpha=1 , marker=\"o\");\n",
    "plt.title(\"Hasil Klustering K-Means\")\n",
    "plt.colorbar(output)\n",
    "plt.show()"
   ]
  },
  {
   "cell_type": "markdown",
   "id": "9da86917",
   "metadata": {},
   "source": [
    "# Kesimpulan"
   ]
  },
  {
   "attachments": {},
   "cell_type": "markdown",
   "id": "15e47259",
   "metadata": {},
   "source": [
    "Dari penggunaan 2 algoritma dengan scikitlearn import K-Means dan dengan mendifinisikan algoritma Euclidiean distance sendiri hasilnya adalah sama sama memiliki ouutput yang sama\n"
   ]
  }
 ],
 "metadata": {
  "kernelspec": {
   "display_name": "Python 3 (ipykernel)",
   "language": "python",
   "name": "python3"
  },
  "language_info": {
   "codemirror_mode": {
    "name": "ipython",
    "version": 3
   },
   "file_extension": ".py",
   "mimetype": "text/x-python",
   "name": "python",
   "nbconvert_exporter": "python",
   "pygments_lexer": "ipython3",
   "version": "3.9.12"
  }
 },
 "nbformat": 4,
 "nbformat_minor": 5
}
